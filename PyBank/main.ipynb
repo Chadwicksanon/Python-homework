{
 "cells": [
  {
   "cell_type": "code",
   "execution_count": 417,
   "id": "50d300ae-e7e2-4490-bfeb-b72b88187630",
   "metadata": {
    "tags": []
   },
   "outputs": [],
   "source": [
    "import pandas as pd\n",
    "from pathlib import Path"
   ]
  },
  {
   "cell_type": "code",
   "execution_count": 419,
   "id": "77a50b2a-5c48-4a6e-a8cf-bcca5fc8439d",
   "metadata": {
    "tags": []
   },
   "outputs": [],
   "source": [
    "datapath= Path(\"Resources\", \"budget_data.csv\")\n",
    "df= pd.read_csv(datapath)"
   ]
  },
  {
   "cell_type": "code",
   "execution_count": 421,
   "id": "66220e3a-ce12-4306-95e0-bf16d597858c",
   "metadata": {
    "tags": []
   },
   "outputs": [],
   "source": [
    "#Returns legth Object\n",
    "tnmonths= len(df)\n",
    "ntpl= df[\"Profit/Losses\"].sum()"
   ]
  },
  {
   "cell_type": "code",
   "execution_count": 423,
   "id": "633fe541-4609-4622-a491-31a6a4eac29d",
   "metadata": {
    "tags": []
   },
   "outputs": [],
   "source": [
    "#Create Change to Calculate Ranges\n",
    "df[\"Change\"]=df[\"Profit/Losses\"].diff()\n",
    "acpl=df[\"Change\"].mean()"
   ]
  },
  {
   "cell_type": "code",
   "execution_count": 525,
   "id": "bf8136d8-be9e-42ce-bdcb-35a1263338a1",
   "metadata": {
    "tags": []
   },
   "outputs": [],
   "source": [
    "#df[\"Maximum_Profit\"]=df[\"Profit/Losses\"].idxmax()\n",
    "#gip=[\"Maximum_Profit\"].idxmax()\n",
    "gip=df.loc[df[\"Change\"].idxmax()]\n",
    "gdl=df.loc[df[\"Change\"].idxmin()]"
   ]
  },
  {
   "cell_type": "code",
   "execution_count": 557,
   "id": "a265db3f-c601-4966-aa31-b7e7f10a28d5",
   "metadata": {},
   "outputs": [
    {
     "name": "stdout",
     "output_type": "stream",
     "text": [
      "Financial Analysis\n",
      "----------------------------\n",
      "Total Months: 86\n",
      "Total: $38382578\n",
      "Average Change: $-2315.12\n",
      "Greatest Increase in Profits: Feb-2012 ($1926159.0)\n",
      "Greatest Decrease in Profits: Sep-2013 ($-2196167.0)\n"
     ]
    }
   ],
   "source": [
    "#Create Financial Analysis\n",
    "print(\"Financial Analysis\")\n",
    "print(\"----------------------------\")\n",
    "print(f\"Total Months: {tnmonths}\")\n",
    "print(f\"Total: ${ntpl}\")\n",
    "print(f\"Average Change: ${round(acpl, 2)}\")\n",
    "print(f\"Greatest Increase in Profits: {gip['Date']} (${gip['Change']})\")\n",
    "print(f\"Greatest Decrease in Profits: {gdl['Date']} (${gdl['Change']})\")"
   ]
  },
  {
   "cell_type": "code",
   "execution_count": 563,
   "id": "ba9bc2d7-23ab-4cdb-bf37-77c6acde4297",
   "metadata": {},
   "outputs": [
    {
     "name": "stdout",
     "output_type": "stream",
     "text": [
      "The content has been written to the output_file\n"
     ]
    }
   ],
   "source": [
    "# print results to the output.txt file \n",
    "with open('Financial_Anaylsis.txt', 'w') as output_file:\n",
    "    print(\"Financial Analysis\", file=output_file)\n",
    "    print(\"-------------------------\", file=output_file)\n",
    "    print(f\"Total Months: {tnmonths}\", file=output_file)\n",
    "    print(f\"Total: ${ntpl}\", file=output_file)\n",
    "    print(f\"Average Change: ${round(acpl, 2)}\", file=output_file)\n",
    "    print(f\"Greatest Increase in Profits: {gip['Date']} (${gip['Change']})\", file=output_file) \n",
    "    print(f\"Greatest Decrease in Profits: {gdl['Date']} (${gdl['Change']})\", file=output_file)\n",
    "print(f\"The content has been written to the output_file\")"
   ]
  },
  {
   "cell_type": "code",
   "execution_count": null,
   "id": "39334af3-94a3-41c9-a580-a9ab4b46ba12",
   "metadata": {},
   "outputs": [],
   "source": []
  }
 ],
 "metadata": {
  "kernelspec": {
   "display_name": "Python 3 (ipykernel)",
   "language": "python",
   "name": "python3"
  },
  "language_info": {
   "codemirror_mode": {
    "name": "ipython",
    "version": 3
   },
   "file_extension": ".py",
   "mimetype": "text/x-python",
   "name": "python",
   "nbconvert_exporter": "python",
   "pygments_lexer": "ipython3",
   "version": "3.11.7"
  }
 },
 "nbformat": 4,
 "nbformat_minor": 5
}
